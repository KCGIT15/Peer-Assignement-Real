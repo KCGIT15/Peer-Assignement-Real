{
  "metadata": {
    "kernelspec": {
      "name": "python",
      "display_name": "Pyolite",
      "language": "python"
    },
    "language_info": {
      "codemirror_mode": {
        "name": "python",
        "version": 3
      },
      "file_extension": ".py",
      "mimetype": "text/x-python",
      "name": "python",
      "nbconvert_exporter": "python",
      "pygments_lexer": "ipython3",
      "version": "3.8"
    }
  },
  "nbformat_minor": 4,
  "nbformat": 4,
  "cells": [
    {
      "cell_type": "markdown",
      "source": "<center>\n    <img src=\"https://cf-courses-data.s3.us.cloud-object-storage.appdomain.cloud/IBMDeveloperSkillsNetwork-DS0105EN-SkillsNetwork/labs/Module2/images/SN_web_lightmode.png\" width=\"300\" alt=\"cognitiveclass.ai logo\"  />\n</center>\n",
      "metadata": {}
    },
    {
      "cell_type": "markdown",
      "source": "#### Add your code below following the instructions given in the course\n",
      "metadata": {}
    },
    {
      "cell_type": "markdown",
      "source": "# My Jupyter Notebook on IBM Watson Studio",
      "metadata": {}
    },
    {
      "cell_type": "markdown",
      "source": "### Tabika Casey\nBeing a data Scientist or analyst at a bank or a tech company is my desired job",
      "metadata": {}
    },
    {
      "cell_type": "markdown",
      "source": "*I am interested in being a data scientist because I envy the idea of solving problem using tech and being able to see how my idea can grow and be useful.*",
      "metadata": {}
    },
    {
      "cell_type": "markdown",
      "source": "### The next cell will be a code addition of 9 + 3",
      "metadata": {}
    },
    {
      "cell_type": "code",
      "source": "9 + 3",
      "metadata": {
        "trusted": true
      },
      "execution_count": 9,
      "outputs": [
        {
          "execution_count": 9,
          "output_type": "execute_result",
          "data": {
            "text/plain": "12"
          },
          "metadata": {}
        }
      ]
    },
    {
      "cell_type": "markdown",
      "source": " Python | R | SQL \n :-------|:---:|----\n **most popular** | **transform math to code** | **developped by IBM** \n *My most interested* | *My 3rd interested* | *My second interested*\n `Good for AI, machine learning, web dev, data science` | `Good for statisticians mathmaticians data miners` | `Good for buisness`\n \n this tables is a decription of\n ---\n >the most 3 languages we will be using in this course\n ---\n > I am `excited` for this *Data Science certificate*\n ----\n > I really hope it opens a good **Career Job** for us.\n \n ",
      "metadata": {}
    },
    {
      "cell_type": "code",
      "source": "",
      "metadata": {},
      "execution_count": null,
      "outputs": []
    }
  ]
}